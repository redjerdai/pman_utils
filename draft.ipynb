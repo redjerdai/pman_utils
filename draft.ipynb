{
 "cells": [
  {
   "cell_type": "code",
   "execution_count": 1,
   "metadata": {},
   "outputs": [],
   "source": [
    "#"
   ]
  },
  {
   "cell_type": "code",
   "execution_count": 2,
   "metadata": {},
   "outputs": [],
   "source": [
    "import pandas"
   ]
  },
  {
   "cell_type": "code",
   "execution_count": null,
   "metadata": {},
   "outputs": [],
   "source": []
  },
  {
   "cell_type": "code",
   "execution_count": null,
   "metadata": {},
   "outputs": [],
   "source": [
    "class PortfolioSleketon:\n",
    "    \n",
    "    def __init__(self, real, predicted):\n",
    "        \n",
    "        \"\"\"\n",
    "        Both for real and predited:\n",
    "        They are to be DataFrames\n",
    "        Each column (1d column axis, not multiindex) to correspond to an instrument\n",
    "        Index is to be 1d (not multiindex) and to correspond to time axis\n",
    "        For the same time step values at real represent the last available prices, and at predicted the last available prediction\n",
    "        for the next time step\n",
    "        \"\"\"\n",
    "        \n",
    "        self.real = real.copy()\n",
    "        self.predicted = predicted.copy()\n",
    "        self.decisions = None\n",
    "        self.composite = None\n",
    "    \n",
    "    # now we just invest in top 10% party\n",
    "    def compute(self):\n",
    "        \n",
    "        pct = self.predicted / self.real\n",
    "        \n",
    "        \n",
    "        def quantile(x):\n",
    "            return numpy.quantile(a=x.values, q=0.9)\n",
    "        \n",
    "        pct['_tHRESH'] = pct.apply(func=quantile, axis=1)\n",
    "        \n",
    "        def count(x):\n",
    "            return 1 / (x[[x for x in x.index if x not in ['_tHRESH']]].values > x['_tHRESH']).sum()\n",
    "        \n",
    "        pct['_pART'] = pct.apply(func=count, axis=1)\n",
    "        \n",
    "        self.decisions = pandas.DataFrame(data=numpy.zeros(shape=pct.shape), columns=pct.columns, index=pct.index)\n",
    "        \n",
    "        for column in [x for x in pct.columns if x not in ['_tHRESH', '_pART']]:\n",
    "            \n",
    "            self.decisions.loc[self.decisions[column] > self.decisions['_tHRESH'], column] = self.decisions['_pART']\n",
    "        \n",
    "    def get_decisions(self):\n",
    "        \n",
    "        return self.decisions\n",
    "        "
   ]
  },
  {
   "cell_type": "code",
   "execution_count": null,
   "metadata": {},
   "outputs": [],
   "source": []
  },
  {
   "cell_type": "code",
   "execution_count": null,
   "metadata": {},
   "outputs": [],
   "source": []
  },
  {
   "cell_type": "code",
   "execution_count": null,
   "metadata": {},
   "outputs": [],
   "source": []
  },
  {
   "cell_type": "code",
   "execution_count": null,
   "metadata": {},
   "outputs": [],
   "source": []
  }
 ],
 "metadata": {
  "kernelspec": {
   "display_name": "Python 3",
   "language": "python",
   "name": "python3"
  },
  "language_info": {
   "codemirror_mode": {
    "name": "ipython",
    "version": 3
   },
   "file_extension": ".py",
   "mimetype": "text/x-python",
   "name": "python",
   "nbconvert_exporter": "python",
   "pygments_lexer": "ipython3",
   "version": "3.8.3"
  }
 },
 "nbformat": 4,
 "nbformat_minor": 4
}
